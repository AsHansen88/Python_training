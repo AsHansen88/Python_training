{
 "cells": [
  {
   "cell_type": "markdown",
   "metadata": {},
   "source": [
    "## Properties\n",
    "_Encapsulating data_"
   ]
  },
  {
   "cell_type": "code",
   "execution_count": 15,
   "metadata": {},
   "outputs": [],
   "source": [
    "from number import Number"
   ]
  },
  {
   "cell_type": "code",
   "execution_count": 36,
   "metadata": {},
   "outputs": [],
   "source": [
    "# Library code - JAVA Code\n",
    "class Number:\n",
    "\n",
    "    def __init__(self, value):\n",
    "           self.setX(value) \n",
    "\n",
    "    def getX(self):\n",
    "         return self.x\n",
    "    \n",
    "    def setX(self, value):\n",
    "        if value >= 0 and value <= 100:\n",
    "            self.x = value\n",
    "        else:\n",
    "            raise ValueError('Number should be between 0 and 100')\n",
    "        \n",
    "    x = property(getX, setX)"
   ]
  },
  {
   "cell_type": "code",
   "execution_count": 73,
   "metadata": {},
   "outputs": [],
   "source": [
    "# python \n",
    "\n",
    "class Number:\n",
    "    def __init__(self, value):\n",
    "        self.x = value\n",
    "\n",
    "    @property  # getter\n",
    "    def x(self):\n",
    "        return self._x\n",
    "    \n",
    "    @x.setter # setter\n",
    "    def x(self, value):\n",
    "        if 0 <= value <= 100:\n",
    "            self._x = value  # _x bliver oprettet\n",
    "        else:\n",
    "            raise ValueError('Number should be between 0 and 100')\n",
    "    "
   ]
  },
  {
   "cell_type": "code",
   "execution_count": 74,
   "metadata": {},
   "outputs": [
    {
     "data": {
      "text/plain": [
       "12"
      ]
     },
     "execution_count": 74,
     "metadata": {},
     "output_type": "execute_result"
    }
   ],
   "source": [
    "# user code\n",
    "num = Number(-78)\n",
    "num.x = 12\n",
    "num.x"
   ]
  },
  {
   "cell_type": "markdown",
   "metadata": {},
   "source": [
    "***"
   ]
  },
  {
   "cell_type": "markdown",
   "metadata": {},
   "source": [
    "> ### Q: What if value should be between 0 and 100?"
   ]
  }
 ],
 "metadata": {
  "kernelspec": {
   "display_name": ".venv",
   "language": "python",
   "name": "python3"
  },
  "language_info": {
   "codemirror_mode": {
    "name": "ipython",
    "version": 3
   },
   "file_extension": ".py",
   "mimetype": "text/x-python",
   "name": "python",
   "nbconvert_exporter": "python",
   "pygments_lexer": "ipython3",
   "version": "3.11.5"
  }
 },
 "nbformat": 4,
 "nbformat_minor": 2
}
