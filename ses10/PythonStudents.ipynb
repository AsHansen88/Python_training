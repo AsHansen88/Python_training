{
 "cells": [
  {
   "cell_type": "code",
   "execution_count": 3,
   "metadata": {},
   "outputs": [
    {
     "name": "stdout",
     "output_type": "stream",
     "text": [
      "Anders\n",
      "Carina\n"
     ]
    }
   ],
   "source": [
    "class Student:\n",
    "    def __init__(self, name, cpr):\n",
    "        self.name = name\n",
    "        self.cpr = cpr\n",
    "\n",
    "    @property\n",
    "    def name(self):\n",
    "        return self.__name\n",
    "\n",
    "    @name.setter\n",
    "    def name(self, name):\n",
    "        self.__name = name.capitalize()\n",
    "\n",
    "    def __add__(self, student):\n",
    "        return Student('Anna the daughter', 1234)\n",
    "\n",
    "    def __str__(self):\n",
    "        return f'{self.name}, {self.cpr}'\n",
    "\n",
    "    def __repr__(self):\n",
    "        return f'{self.__dict__}'\n",
    "\n",
    "\n",
    "class PythonStudents:\n",
    "    def __init__(self):\n",
    "        self.students = []\n",
    "        self.index = 0\n",
    "\n",
    "    def add_student(self, student):\n",
    "        if isinstance(student, Student):\n",
    "            self.students.append(student)\n",
    "        else:\n",
    "            raise TypeError(\"Only Student objects can be added\")\n",
    "\n",
    "    def __iter__(self):\n",
    "        self.index = 0  # Reset the index every time a new iterator is requested\n",
    "        return self\n",
    "\n",
    "    def __next__(self):\n",
    "        if self.index < len(self.students):\n",
    "            student = self.students[self.index]\n",
    "            self.index += 1\n",
    "            return student.name\n",
    "        else:\n",
    "            raise StopIteration\n",
    "\n",
    "# Example usage:\n",
    "# Create a PythonStudents collection\n",
    "python_students = PythonStudents()\n",
    "\n",
    "# Add students to the collection\n",
    "python_students.add_student(Student(\"Anders\", \"123456789\"))\n",
    "python_students.add_student(Student(\"Carina\", \"987654321\"))\n",
    "\n",
    "# Iterate through the collection\n",
    "for student_name in python_students:\n",
    "    print(student_name)"
   ]
  }
 ],
 "metadata": {
  "kernelspec": {
   "display_name": ".venv",
   "language": "python",
   "name": "python3"
  },
  "language_info": {
   "codemirror_mode": {
    "name": "ipython",
    "version": 3
   },
   "file_extension": ".py",
   "mimetype": "text/x-python",
   "name": "python",
   "nbconvert_exporter": "python",
   "pygments_lexer": "ipython3",
   "version": "3.11.4"
  }
 },
 "nbformat": 4,
 "nbformat_minor": 2
}
