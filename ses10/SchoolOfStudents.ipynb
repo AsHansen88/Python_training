{
 "cells": [
  {
   "cell_type": "code",
   "execution_count": 1,
   "metadata": {},
   "outputs": [
    {
     "name": "stdout",
     "output_type": "stream",
     "text": [
      "{'id': 1, 'name': 'Thomas', 'major': 'CompSci'}\n",
      "{'id': 2, 'name': 'Corey', 'major': 'Math'}\n",
      "{'id': 3, 'name': 'Steve', 'major': 'CompSci'}\n",
      "{'id': 4, 'name': 'Rick', 'major': 'Arts'}\n",
      "{'id': 5, 'name': 'Corey', 'major': 'Business'}\n",
      "{'id': 6, 'name': 'John', 'major': 'Arts'}\n",
      "{'id': 7, 'name': 'Rick', 'major': 'Arts'}\n",
      "{'id': 8, 'name': 'Thomas', 'major': 'Business'}\n",
      "{'id': 9, 'name': 'Rick', 'major': 'Arts'}\n",
      "{'id': 10, 'name': 'Thomas', 'major': 'Engineering'}\n",
      "{'id': 1, 'name': 'Rick', 'major': 'CompSci'}\n",
      "{'id': 2, 'name': 'Corey', 'major': 'Engineering'}\n",
      "{'id': 3, 'name': 'Rick', 'major': 'Business'}\n",
      "{'id': 4, 'name': 'Adam', 'major': 'Math'}\n",
      "{'id': 5, 'name': 'Corey', 'major': 'Arts'}\n",
      "{'id': 6, 'name': 'Corey', 'major': 'Arts'}\n",
      "{'id': 7, 'name': 'Corey', 'major': 'Math'}\n",
      "{'id': 8, 'name': 'Thomas', 'major': 'Business'}\n",
      "{'id': 9, 'name': 'Corey', 'major': 'CompSci'}\n",
      "{'id': 10, 'name': 'Corey', 'major': 'Math'}\n"
     ]
    }
   ],
   "source": [
    "import random\n",
    "\n",
    "names = ['John', 'Corey', 'Adam', 'Steve', 'Rick', 'Thomas']\n",
    "majors = ['Math', 'Engineering', 'CompSci', 'Arts', 'Business']\n",
    "\n",
    "def students_list(num_students):\n",
    "    students = []\n",
    "    for i in range(num_students):\n",
    "        student = {\n",
    "            'id': i + 1,\n",
    "            'name': random.choice(names),\n",
    "            'major': random.choice(majors)\n",
    "        }\n",
    "        students.append(student)\n",
    "    return students\n",
    "\n",
    "def students_generator(num_students):\n",
    "    for i in range(num_students):\n",
    "        yield {\n",
    "            'id': i + 1,\n",
    "            'name': random.choice(names),\n",
    "            'major': random.choice(majors)\n",
    "        }\n",
    "\n",
    "# Example usage:\n",
    "# Create a list of students\n",
    "people_list = students_list(10)  # let's do 10 to keep the example small\n",
    "for person in people_list:\n",
    "    print(person)\n",
    "\n",
    "# Create a generator of students\n",
    "people_generator = students_generator(10)  # again, just 10 for the example\n",
    "for person in people_generator:\n",
    "    print(person)\n"
   ]
  }
 ],
 "metadata": {
  "kernelspec": {
   "display_name": ".venv",
   "language": "python",
   "name": "python3"
  },
  "language_info": {
   "codemirror_mode": {
    "name": "ipython",
    "version": 3
   },
   "file_extension": ".py",
   "mimetype": "text/x-python",
   "name": "python",
   "nbconvert_exporter": "python",
   "pygments_lexer": "ipython3",
   "version": "3.11.4"
  }
 },
 "nbformat": 4,
 "nbformat_minor": 2
}
