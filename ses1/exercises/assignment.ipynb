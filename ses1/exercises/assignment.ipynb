{
 "cells": [
  {
   "cell_type": "code",
   "execution_count": 52,
   "metadata": {},
   "outputs": [
    {
     "name": "stdout",
     "output_type": "stream",
     "text": [
      "Who in board of directors is not emplayee {'Mille', 'Søren', 'Hans', 'Troels', 'Torben', 'Benny'}\n",
      "[('a', 'Alpha'), ('b', 'Beta'), ('g', 'Gamma')]\n"
     ]
    },
    {
     "ename": "TypeError",
     "evalue": "int() argument must be a string, a bytes-like object or a real number, not 'NoneType'",
     "output_type": "error",
     "traceback": [
      "\u001b[1;31m---------------------------------------------------------------------------\u001b[0m",
      "\u001b[1;31mTypeError\u001b[0m                                 Traceback (most recent call last)",
      "Cell \u001b[1;32mIn[52], line 62\u001b[0m\n\u001b[0;32m     58\u001b[0m     \u001b[39mreturn\u001b[39;00m (\u001b[39mint\u001b[39m(year), \u001b[39mint\u001b[39m(month), \u001b[39mint\u001b[39m(day))\n\u001b[0;32m     61\u001b[0m date \u001b[39m=\u001b[39m \u001b[39m'\u001b[39m\u001b[39m8-MAR-85\u001b[39m\u001b[39m'\u001b[39m\n\u001b[1;32m---> 62\u001b[0m result_Date \u001b[39m=\u001b[39m Date_decoder(date)\n\u001b[0;32m     66\u001b[0m \u001b[39mdef\u001b[39;00m \u001b[39mmain\u001b[39m():\n\u001b[0;32m     67\u001b[0m   \u001b[39mprint\u001b[39m (\u001b[39m\"\u001b[39m\u001b[39mWho in board of directors is not emplayee\u001b[39m\u001b[39m\"\u001b[39m, Not_Emplayee)\n",
      "Cell \u001b[1;32mIn[52], line 58\u001b[0m, in \u001b[0;36mDate_decoder\u001b[1;34m(date)\u001b[0m\n\u001b[0;32m     54\u001b[0m \u001b[39melse\u001b[39;00m:\n\u001b[0;32m     55\u001b[0m     year \u001b[39m=\u001b[39m \u001b[39m'\u001b[39m\u001b[39m19\u001b[39m\u001b[39m'\u001b[39m \u001b[39m+\u001b[39m year\n\u001b[1;32m---> 58\u001b[0m \u001b[39mreturn\u001b[39;00m (\u001b[39mint\u001b[39m(year), \u001b[39mint\u001b[39;49m(month), \u001b[39mint\u001b[39m(day))\n",
      "\u001b[1;31mTypeError\u001b[0m: int() argument must be a string, a bytes-like object or a real number, not 'NoneType'"
     ]
    }
   ],
   "source": [
    "# 1. Model an organisation of employees, management and board of directors in 3 sets.\n",
    "\n",
    "def organisation_of_employees():\n",
    "    \n",
    "    board_of_directors = {\"Benny\", \"Hans\", \"Tine\", \"Mille\", \"Torben\", \"Troels\", \"Søren\"}\n",
    "    mangagement = {\"Tine\", \"Trunte\",\"Rana\"}\n",
    "    emplayees = {\"Niels\", \"Anna\", \"Tine\", \"Ole\", \"Trunte\", \"Bent\", \"Rane\", \"Allan\", \"Stine\", \"Claus\", \"James\", \"Lars\"}\n",
    "\n",
    "#who in the board of directors is not an employee?\n",
    "\n",
    "    Not_Emplayee = board_of_directors - emplayees\n",
    "    print (\"Who in board of directors is not emplayee\", Not_Emplayee)\n",
    "\n",
    "\n",
    "result = organisation_of_employees()\n",
    "\n",
    "# 2 Create a list of tuples from the folowing datastructure\n",
    "\n",
    "def Tuples():\n",
    "    tuples = {'a': 'Alpha', 'b':'Beta', 'g': 'Gamma'}\n",
    "\n",
    "    list_of_tuples = [(key, value) for key, value in tuples.items()]\n",
    "    \n",
    "    return list_of_tuples\n",
    "\n",
    "result_tuples = Tuples()\n",
    "\n",
    "print (result_tuples)\n",
    "\n",
    "# From these 2 sets:\n",
    "\n",
    "set1 = {'a', 'e', 'i', 'o', 'u', 'y'}\n",
    "set2 = {'a', 'e', 'i', 'o', 'u', 'y', 'æ' ,'ø', 'å'}\n",
    "\n",
    "\n",
    "# Data Decoder\n",
    "\n",
    "def Date_decoder(date):\n",
    "\n",
    "\n",
    "    month_dictionary = {\n",
    "        'JANUAR': '01', 'FEBUAR': '02', 'MARTS': '03', 'APRIL': '04', 'MAY': '05',\n",
    "        'JUNI': '06', 'JULY': '07', 'AUGUST': '08', 'SEPTEMBER': '09', 'OKTOBER': '10',\n",
    "        'NOVEMBER': '11', 'DECEMBER': '12'\n",
    "    }\n",
    "\n",
    "    day, month, year = date.split('-')\n",
    "\n",
    "    month = month_dictionary.get(month.upper())\n",
    "    \n",
    "    \n",
    "    if int(year) < 50:\n",
    "        year = '20' + year\n",
    "    else:\n",
    "        year = '19' + year\n",
    "    \n",
    "    \n",
    "    return (int(year), int(month), int(day))\n",
    "\n",
    "\n",
    "date = '8-MAR-85'\n",
    "result_Date = Date_decoder(date)\n",
    "\n",
    "    \n",
    "\n",
    "def main():\n",
    "  print (\"Who in board of directors is not emplayee\", Not_Emplayee)\n",
    "  print (result_tuples)\n",
    "  print (result_Date)\n",
    "\n",
    "\n",
    "main()"
   ]
  }
 ],
 "metadata": {
  "kernelspec": {
   "display_name": ".venv",
   "language": "python",
   "name": "python3"
  },
  "language_info": {
   "codemirror_mode": {
    "name": "ipython",
    "version": 3
   },
   "file_extension": ".py",
   "mimetype": "text/x-python",
   "name": "python",
   "nbconvert_exporter": "python",
   "pygments_lexer": "ipython3",
   "version": "3.11.4"
  },
  "orig_nbformat": 4
 },
 "nbformat": 4,
 "nbformat_minor": 2
}
