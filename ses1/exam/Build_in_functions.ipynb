{
 "cells": [
  {
   "cell_type": "code",
   "execution_count": 5,
   "metadata": {},
   "outputs": [
    {
     "name": "stdout",
     "output_type": "stream",
     "text": [
      "Hello World!\n",
      "5\n"
     ]
    }
   ],
   "source": [
    "# Eksemple på build in function\n",
    "\n",
    "print(\"Hello World!\")\n",
    "\n",
    "number_list = [1, 2, 3, 4, 5]\n",
    "print(len(number_list)) \n"
   ]
  },
  {
   "cell_type": "code",
   "execution_count": 6,
   "metadata": {},
   "outputs": [],
   "source": [
    "# Data types\n",
    "\n",
    "x = str(5) # Convert integer to string\n",
    "y= int (\"10\") # Convert string to integer\n",
    "Z = float (\"4.2\") # Convert String to float"
   ]
  },
  {
   "cell_type": "code",
   "execution_count": 7,
   "metadata": {},
   "outputs": [
    {
     "name": "stdout",
     "output_type": "stream",
     "text": [
      "True\n",
      "True\n"
     ]
    }
   ],
   "source": [
    "# Basic Utilities\n",
    "\n",
    "my_list = [1, 2, 3]\n",
    "print(all(my_list)) # Check if all elements are true in the list\n",
    "print(any(my_list)) # check of any elements are true in the list"
   ]
  },
  {
   "cell_type": "code",
   "execution_count": 8,
   "metadata": {},
   "outputs": [
    {
     "name": "stdout",
     "output_type": "stream",
     "text": [
      "4.0\n",
      "4\n"
     ]
    }
   ],
   "source": [
    "# Math functions\n",
    "\n",
    "import math \n",
    "\n",
    "print(math.sqrt(16)) # Square root function from math module\n",
    "print(round(3.7)) # Round function to round the number"
   ]
  }
 ],
 "metadata": {
  "kernelspec": {
   "display_name": ".venv",
   "language": "python",
   "name": "python3"
  },
  "language_info": {
   "codemirror_mode": {
    "name": "ipython",
    "version": 3
   },
   "file_extension": ".py",
   "mimetype": "text/x-python",
   "name": "python",
   "nbconvert_exporter": "python",
   "pygments_lexer": "ipython3",
   "version": "3.11.4"
  }
 },
 "nbformat": 4,
 "nbformat_minor": 2
}
