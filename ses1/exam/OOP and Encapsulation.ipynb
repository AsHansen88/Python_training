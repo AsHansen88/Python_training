{
 "cells": [
  {
   "cell_type": "code",
   "execution_count": 11,
   "metadata": {},
   "outputs": [
    {
     "name": "stdout",
     "output_type": "stream",
     "text": [
      "30\n",
      "35\n",
      "The animal's name is Biscuit\n",
      "Vuf!\n",
      "Miaow!\n",
      "1\n",
      "2\n",
      "3\n"
     ]
    }
   ],
   "source": [
    "class Animal:\n",
    "    def __init__(self, name):\n",
    "        self._name = name  # Rettede til at bruge _name som den private attribut\n",
    "\n",
    "    def speak(self):  # Metode\n",
    "        return \"Sound!\"\n",
    "\n",
    "    def __str__(self):\n",
    "        return f\"The animal's name is {self._name}\"  # Brug af _name her for at matche konstruktøren\n",
    "\n",
    "# Arv - En ny klasse nedarver fra Animal\n",
    "class Dog(Animal):\n",
    "    def speak(self):\n",
    "        return \"Vuf!\"\n",
    "\n",
    "class Cat(Animal):\n",
    "    def speak(self):\n",
    "        return \"Miaow!\"\n",
    "\n",
    "# Encapsulation med getters og setters\n",
    "class Person:\n",
    "    def __init__(self, name, age):\n",
    "        self._name = name  # Brug af _ for at angive privat attribut\n",
    "        self._age = age  # Ændret til _age for konsistens og for at undgå navnekonflikter\n",
    "\n",
    "    # Getter metode\n",
    "    @property\n",
    "    def age(self):\n",
    "        return self._age\n",
    "\n",
    "    # Setter metode\n",
    "    @age.setter\n",
    "    def age(self, value):\n",
    "        if 0 < value < 120:\n",
    "            self._age = value\n",
    "        else:\n",
    "            raise ValueError(\"Impossible age\")\n",
    "\n",
    "# Brug af Generators\n",
    "def simple_generator():\n",
    "    yield 1\n",
    "    yield 2\n",
    "    yield 3\n",
    "\n",
    "# Eksempel på brug af klasser og objekter\n",
    "if __name__ == \"__main__\":\n",
    "    # Instanser\n",
    "    animal = Animal(\"Biscuit\")\n",
    "    dog = Dog(\"Rex\")\n",
    "    cat = Cat(\"Whiskers\")\n",
    "\n",
    "    # Encapsulation\n",
    "    person = Person(\"Anders\", 30)\n",
    "    print(person.age)  # Dette vil udskrive 30\n",
    "    person.age = 35\n",
    "    print(person.age)  # Dette vil nu udskrive 35\n",
    "\n",
    "    # Metoder og attributter\n",
    "    print(animal)  # Bruger __str__ metoden i Animal\n",
    "    print(dog.speak())\n",
    "    print(cat.speak())\n",
    "\n",
    "    # Arbejde med generator\n",
    "    for value in simple_generator():\n",
    "        print(value)\n"
   ]
  }
 ],
 "metadata": {
  "kernelspec": {
   "display_name": ".venv",
   "language": "python",
   "name": "python3"
  },
  "language_info": {
   "codemirror_mode": {
    "name": "ipython",
    "version": 3
   },
   "file_extension": ".py",
   "mimetype": "text/x-python",
   "name": "python",
   "nbconvert_exporter": "python",
   "pygments_lexer": "ipython3",
   "version": "3.11.4"
  }
 },
 "nbformat": 4,
 "nbformat_minor": 2
}
