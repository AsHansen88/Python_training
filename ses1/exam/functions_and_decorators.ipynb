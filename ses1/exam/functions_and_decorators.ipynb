{
 "cells": [
  {
   "cell_type": "code",
   "execution_count": 9,
   "metadata": {},
   "outputs": [
    {
     "name": "stdout",
     "output_type": "stream",
     "text": [
      "Hej Anders!!\n"
     ]
    }
   ],
   "source": [
    "# definer function\n",
    "\n",
    "def hilsen(navn): \n",
    "    return f\"Hej {navn}!\"\n",
    "\n",
    "print(hilsen (\"Anders!\"))"
   ]
  },
  {
   "cell_type": "code",
   "execution_count": 10,
   "metadata": {},
   "outputs": [
    {
     "name": "stdout",
     "output_type": "stream",
     "text": [
      "kaldt: add med argument (2, 3) og keyword argumenter {}\n",
      "5\n"
     ]
    }
   ],
   "source": [
    "# dekoratore\n",
    "\n",
    "def logger (func): \n",
    "    def wreapper(*args, **kwargs):\n",
    "        print(f\"kaldt: {func.__name__} med argument {args} og keyword argumenter {kwargs}\")\n",
    "        return func (*args, **kwargs)\n",
    "    return wreapper\n",
    "\n",
    "@logger\n",
    "def add(a, b):\n",
    "    return a + b\n",
    "\n",
    "print(add(2,3))\n",
    " "
   ]
  },
  {
   "cell_type": "code",
   "execution_count": 11,
   "metadata": {},
   "outputs": [
    {
     "ename": "SyntaxError",
     "evalue": "invalid syntax. Perhaps you forgot a comma? (2353019608.py, line 10)",
     "output_type": "error",
     "traceback": [
      "\u001b[1;36m  Cell \u001b[1;32mIn[11], line 10\u001b[1;36m\u001b[0m\n\u001b[1;33m    print(f{func.__name__} kørte i: {end-start} sekunder)\u001b[0m\n\u001b[1;37m          ^\u001b[0m\n\u001b[1;31mSyntaxError\u001b[0m\u001b[1;31m:\u001b[0m invalid syntax. Perhaps you forgot a comma?\n"
     ]
    }
   ],
   "source": [
    "# advanced decorator\n",
    "\n",
    "import time \n",
    "\n",
    "def timer(func):\n",
    "    def wrapper(*args, **Kwargs):\n",
    "        start = time.time()\n",
    "        result = func(*args, **kwargs)\n",
    "        end = time.time()\n",
    "        print(f\"{func.__name__} kørte i: {end-start} sekunder\")\n",
    "        return result\n",
    "    return wrapper\n",
    "\n",
    "@timer \n",
    "def langsom_funktion(t):\n",
    "    time.sleep(t)\n",
    "\n",
    "langsom_funktion(2)"
   ]
  }
 ],
 "metadata": {
  "kernelspec": {
   "display_name": ".venv",
   "language": "python",
   "name": "python3"
  },
  "language_info": {
   "codemirror_mode": {
    "name": "ipython",
    "version": 3
   },
   "file_extension": ".py",
   "mimetype": "text/x-python",
   "name": "python",
   "nbconvert_exporter": "python",
   "pygments_lexer": "ipython3",
   "version": "3.11.4"
  }
 },
 "nbformat": 4,
 "nbformat_minor": 2
}
