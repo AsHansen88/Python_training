{
 "cells": [
  {
   "cell_type": "code",
   "execution_count": 15,
   "metadata": {},
   "outputs": [
    {
     "name": "stdout",
     "output_type": "stream",
     "text": [
      "Hej Anders!!\n"
     ]
    }
   ],
   "source": [
    "# definer function\n",
    "\n",
    "def hilsen(navn): \n",
    "    return f\"Hej {navn}!\"\n",
    "\n",
    "print(hilsen (\"Anders!\"))"
   ]
  },
  {
   "cell_type": "code",
   "execution_count": 16,
   "metadata": {},
   "outputs": [
    {
     "name": "stdout",
     "output_type": "stream",
     "text": [
      "kaldt: add med argument (2, 3) og keyword argumenter {}\n",
      "5\n"
     ]
    }
   ],
   "source": [
    "# dekoratore\n",
    "\n",
    "def logger (func): \n",
    "    def wreapper(*args, **kwargs):\n",
    "        print(f\"kaldt: {func.__name__} med argument {args} og keyword argumenter {kwargs}\")\n",
    "        return func (*args, **kwargs)\n",
    "    return wreapper\n",
    "\n",
    "@logger\n",
    "def add(a, b):\n",
    "    return a + b\n",
    "\n",
    "print(add(2,3))\n",
    " "
   ]
  },
  {
   "cell_type": "code",
   "execution_count": 17,
   "metadata": {},
   "outputs": [
    {
     "name": "stdout",
     "output_type": "stream",
     "text": [
      "langsom_funktion kørte i: 2.001749277114868 sekunder.\n"
     ]
    }
   ],
   "source": [
    "# advanced decorator\n",
    "\n",
    "import time\n",
    "\n",
    "def timer(func):\n",
    "    def wrapper(*args, **kwargs):\n",
    "        start = time.time()\n",
    "        result = func(*args, **kwargs)\n",
    "        end = time.time()\n",
    "        print(f\"{func.__name__} kørte i: {end-start} sekunder.\")\n",
    "        return result\n",
    "    return wrapper\n",
    "\n",
    "@timer\n",
    "def langsom_funktion(t):\n",
    "    time.sleep(t)\n",
    "\n",
    "langsom_funktion(2)\n"
   ]
  }
 ],
 "metadata": {
  "kernelspec": {
   "display_name": ".venv",
   "language": "python",
   "name": "python3"
  },
  "language_info": {
   "codemirror_mode": {
    "name": "ipython",
    "version": 3
   },
   "file_extension": ".py",
   "mimetype": "text/x-python",
   "name": "python",
   "nbconvert_exporter": "python",
   "pygments_lexer": "ipython3",
   "version": "3.11.4"
  }
 },
 "nbformat": 4,
 "nbformat_minor": 2
}
